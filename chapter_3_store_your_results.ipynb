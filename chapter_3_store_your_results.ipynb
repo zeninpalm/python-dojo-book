{
 "cells": [
  {
   "cell_type": "markdown",
   "metadata": {},
   "source": [
    "# Chapter 3. Store your results\n",
    "\n",
    "Hi, look at yourself, now you already know how to do math on your computer, all you need is to type math formulas and press Enter, whoola, you will get the answer correctly.\n",
    "\n",
    "You made a solid step toward your blackbelt, now let's move another step.\n",
    "\n",
    "Now let's suppose that you just got the answer of the tricky question \"(1 + 2) * (3 + 4) * (5 + (6 + (7 * 8)))\", and you know the answer. But your teacher asks another question, what is the value of \"5 * ((1 + 2) * (3 + 4) * (5 + (6 + (7 * 8))))\"? Obviously, you immediately realize that the two questions overlap with each other a lot. You don't want to type the expression again, that's too boring! Now what do you do?\n",
    "\n",
    "You may think, why not just use the value 1407 directly? Exactly, why not? And Python makes it even better, you don't need to remember the value 1407 in your head, Python can remember it for you. Just like this:"
   ]
  },
  {
   "cell_type": "code",
   "execution_count": null,
   "metadata": {},
   "outputs": [],
   "source": [
    "# Tells Python to remember the value of this expression\n",
    "# And give a name to the value, here we call it \"result\"\n",
    "result = (1 + 2) * (3 + 4) * (5 + (6 + (7 * 8)))"
   ]
  },
  {
   "cell_type": "markdown",
   "metadata": {},
   "source": [
    "Let me explain what we did. We asks Python to calculate the expression, then store the value into the computer memory. And if you forgot it, the computer memory is just like a notebook, you may read from the notebook and you may also write to the notebook.\n",
    "\n",
    "Once you wrote the value to the notebook, how can you make sure that you can find the value again? Of course, you put a tag to indicate where the value is, right?\n",
    "\n",
    "Python does the same thing, 'result' the tag that Python uses to indicate where the value is, basically we're giving a name to the value of the calculated expression, and the name is \"result\". You may use any name, 'result', 'value', 'my_value' or 'the_great_value_of_expression'.\n"
   ]
  },
  {
   "cell_type": "markdown",
   "metadata": {},
   "source": [
    "## ***side note***\n",
    "I said you may use any name, that's a lie! Python insists that you only use the names that Python likes. But that's details, even if Python has some serious rules about what names are acceptable.\n",
    "\n",
    "***computer science concept***\n",
    "The computer scientists call \"result\" a variable"
   ]
  },
  {
   "cell_type": "markdown",
   "metadata": {},
   "source": [
    "After you store a value and give it a name, you may freely use this name anywhere, you may use it in any expression, and Python will find the number value for you, you don't need to find the value by yourself.\n",
    "Let's see some examples, and don't forget that 'result' the name of value 1407."
   ]
  }
 ],
 "metadata": {
  "interpreter": {
   "hash": "916dbcbb3f70747c44a77c7bcd40155683ae19c65e1c03b4aa3499c5328201f1"
  },
  "kernelspec": {
   "display_name": "Python 3.8.2 64-bit",
   "name": "python3"
  },
  "language_info": {
   "codemirror_mode": {
    "name": "ipython",
    "version": 3
   },
   "file_extension": ".py",
   "mimetype": "text/x-python",
   "name": "python",
   "nbconvert_exporter": "python",
   "pygments_lexer": "ipython3",
   "version": "3.8.2"
  },
  "widgets": {
   "application/vnd.jupyter.widget-state+json": {
    "state": {},
    "version_major": 2,
    "version_minor": 0
   }
  }
 },
 "nbformat": 4,
 "nbformat_minor": 4
}

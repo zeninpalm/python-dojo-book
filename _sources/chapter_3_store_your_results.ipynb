{
 "cells": [
  {
   "cell_type": "markdown",
   "source": [
    "# Chapter 3. Store your results\n",
    "\n",
    "Hi, look at yourself, now you already know how to do math on your computer, all you need is to type math formulas and press Enter, whoola, you will get the answer correctly.\n",
    "\n",
    "You made a solid step toward your blackbelt, now let's move another step.\n",
    "\n",
    "Now let's suppose that you just got the answer of the tricky question \"(1 + 2) * (3 + 4) * (5 + (6 + (7 * 8)))\", and you know the answer. But your teacher asks another question, what is the value of \"5 * ((1 + 2) * (3 + 4) * (5 + (6 + (7 * 8))))\"? Obviously, you immediately realize that the two questions overlap with each other a lot. You don't want to type the expression again, that's too boring! Now what do you do?\n",
    "\n",
    "You may think, why not just use the value 1407 directly? Exactly, why not? And Python makes it even better, you don't need to remember the value 1407 in your head, Python can remember it for you. Just like this:"
   ],
   "metadata": {}
  },
  {
   "cell_type": "code",
   "execution_count": null,
   "source": [
    "# Tells Python to remember the value of this expression\n",
    "# And give a name to the value, here we call it \"result\"\n",
    "result = (1 + 2) * (3 + 4) * (5 + (6 + (7 * 8)))"
   ],
   "outputs": [],
   "metadata": {}
  },
  {
   "cell_type": "markdown",
   "source": [
    "Let me explain what we did. We asks Python to calculate the expression, then store the value into the computer memory. And if you forgot it, the computer memory is just like a notebook, you may read from the notebook and you may also write to the notebook.\n",
    "\n",
    "Once you wrote the value to the notebook, how can you make sure that you can find the value again? Of course, you put a tag to indicate where the value is, right?\n",
    "\n",
    "Python does the same thing, 'result' the tag that Python uses to indicate where the value is, basically we're giving a name to the value of the calculated expression, and the name is \"result\". You may use any name, 'result', 'value', 'my_value' or 'the_great_value_of_expression'.\n"
   ],
   "metadata": {}
  },
  {
   "cell_type": "markdown",
   "source": [
    "## ***side note***\n",
    "I said you may use any name, that's a lie! Python insists that you only use the names that Python likes. But that's details, even if Python has some serious rules about what names are acceptable.\n",
    "\n",
    "***computer science concept***\n",
    "The computer scientists call \"result\" a variable"
   ],
   "metadata": {}
  },
  {
   "cell_type": "markdown",
   "source": [
    "After you store a value and give it a name, you may freely use this name anywhere, you may use it in any expression, and Python will find the number value for you, you don't need to find the value by yourself.\n",
    "Let's see some examples, and don't forget that 'result' the name of value 1407.\n",
    "\n",
    "Let's see how to use the stored value now"
   ],
   "metadata": {}
  },
  {
   "cell_type": "code",
   "execution_count": null,
   "source": [
    "# Just use the name as if you're using the literal value\n",
    "print(result * 123 + 3000)\n",
    "print((result - 100) + 100)\n",
    "print(1000/result + 1250)\n",
    "\n",
    "# You may also refer to the another name\n",
    "result_1 = result + 10\n",
    "result_2 = result_1 - 10\n",
    "\n",
    "# You may use mulitple values during calculation\n",
    "final_result = result + result_1 + result_2"
   ],
   "outputs": [],
   "metadata": {}
  },
  {
   "cell_type": "markdown",
   "source": [
    "Now you know your value could be stored, just like you may write a value onto a notebook. And you may attach a tag to where you store the value. Actully you may do much more than that.\n",
    "\n",
    "Just like you may attach the tag to another page in the notebook, you can also do so in Python. For example, we may write \"result = 2407\", now the name result refers to another completely different location, and in that location, we store the value 2407."
   ],
   "metadata": {}
  },
  {
   "cell_type": "code",
   "execution_count": 1,
   "source": [
    "# Let's try it in Python\n",
    "# First we assign 2407\n",
    "result_3 = 2407\n",
    "print(result_3)\n",
    "\n",
    "# Now we give result_3 to another value\n",
    "result_3 = 102400\n",
    "# Print it and check\n",
    "print(result_3)"
   ],
   "outputs": [
    {
     "output_type": "stream",
     "name": "stdout",
     "text": [
      "2407\n",
      "102400\n"
     ]
    }
   ],
   "metadata": {}
  },
  {
   "cell_type": "markdown",
   "source": [
    "What else can we do? Emmm, what about attaching two tags to the same location? Yes, you may also do that, let's try it now."
   ],
   "metadata": {}
  },
  {
   "cell_type": "code",
   "execution_count": null,
   "source": [
    "result = 1407\n",
    "result_1 = result\n",
    "\n",
    "# Print and check\n",
    "print(result)\n",
    "print(result_1)"
   ],
   "outputs": [],
   "metadata": {}
  },
  {
   "cell_type": "markdown",
   "source": [
    "## Side note\n",
    "What do you think will happen if we run this in Python"
   ],
   "metadata": {}
  },
  {
   "cell_type": "code",
   "execution_count": 2,
   "source": [
    "result = 1407\n",
    "result_1 = result\n",
    "\n",
    "result = 1408\n",
    "# Will result_1 be 1407 or 1408? Try it? Can you explain it?\n",
    "print(result_1)"
   ],
   "outputs": [
    {
     "output_type": "stream",
     "name": "stdout",
     "text": [
      "1407\n"
     ]
    }
   ],
   "metadata": {}
  },
  {
   "cell_type": "code",
   "execution_count": null,
   "source": [],
   "outputs": [],
   "metadata": {}
  }
 ],
 "metadata": {
  "interpreter": {
   "hash": "a20a47d3ad761ee262cf02118bc00aa79a3f80d22bc3cd44f7b65aaacb27764f"
  },
  "kernelspec": {
   "name": "python3",
   "display_name": "Python 3.7.3 64-bit ('deeplearning': conda)"
  },
  "language_info": {
   "codemirror_mode": {
    "name": "ipython",
    "version": 3
   },
   "file_extension": ".py",
   "mimetype": "text/x-python",
   "name": "python",
   "nbconvert_exporter": "python",
   "pygments_lexer": "ipython3",
   "version": "3.7.3"
  },
  "widgets": {
   "application/vnd.jupyter.widget-state+json": {
    "state": {},
    "version_major": 2,
    "version_minor": 0
   }
  }
 },
 "nbformat": 4,
 "nbformat_minor": 4
}
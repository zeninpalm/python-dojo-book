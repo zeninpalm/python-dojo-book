{
 "cells": [
  {
   "cell_type": "markdown",
   "source": [
    "# Chapter 4. Be logical\n",
    "\n",
    "Hi, young master, congradulations, you have gone so far. Let me remind you what you have learnt so far. You know that a computer is just like a zombie, it has a brain, it has a notebook, it can take something in and put something out. Then, you teach a computer to do math and play a little with characters. Finally, you store the result of your operations and gave a name to the results. Perfect!\n",
    "\n",
    "OK, it's time to step into the real world, a world in which we have to choose. Recall the last time you carry an umbrella, do you keep the umbrella open? Of course not, whether you open the umbrella open or not depends on the whether. You implicitly tell your brain to do this choice:\n",
    "\n",
    "if it rains, I should open the umbrella.\n",
    "if it doesn't rain, I should keep the umbrella closed.\n",
    "\n",
    "Today, I'll show you the tricks to teach your computer to do the same thing. Stay tune!"
   ],
   "metadata": {}
  },
  {
   "cell_type": "markdown",
   "source": [],
   "metadata": {}
  }
 ],
 "metadata": {
  "interpreter": {
   "hash": "a20a47d3ad761ee262cf02118bc00aa79a3f80d22bc3cd44f7b65aaacb27764f"
  },
  "kernelspec": {
   "name": "python3",
   "display_name": "Python 3.7.3 64-bit ('deeplearning': conda)"
  },
  "language_info": {
   "codemirror_mode": {
    "name": "ipython",
    "version": 3
   },
   "file_extension": ".py",
   "mimetype": "text/x-python",
   "name": "python",
   "nbconvert_exporter": "python",
   "pygments_lexer": "ipython3",
   "version": "3.7.3"
  },
  "widgets": {
   "application/vnd.jupyter.widget-state+json": {
    "state": {},
    "version_major": 2,
    "version_minor": 0
   }
  }
 },
 "nbformat": 4,
 "nbformat_minor": 4
}
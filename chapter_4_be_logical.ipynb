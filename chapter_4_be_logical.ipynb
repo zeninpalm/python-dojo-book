{
 "cells": [
  {
   "cell_type": "markdown",
   "source": [
    "# Chapter 4. Be logical\n",
    "\n",
    "Hi, young master, congradulations, you have gone so far. Let me remind you what you have learnt so far. You know that a computer is just like a zombie, it has a brain, it has a notebook, it can take something in and put something out. Then, you teach a computer to do math and play a little with characters. Finally, you store the result of your operations and gave a name to the results. Perfect!\n",
    "\n",
    "OK, it's time to step into the real world, a world in which we have to choose. Recall the last time you carry an umbrella, do you keep the umbrella open? Of course not, whether you open the umbrella open or not depends on the whether. You implicitly tell your brain to do this choice:\n",
    "\n",
    "if it rains, I should open the umbrella.\n",
    "if it doesn't rain, I should keep the umbrella closed.\n",
    "\n",
    "Today, I'll show you the tricks to teach your computer to do the same thing. Stay tune!"
   ],
   "metadata": {}
  },
  {
   "cell_type": "markdown",
   "source": [
    "## Meet the \"IF\" statment\n",
    "\n",
    "Guess what this statement does, I know you have not met this statment before, but go ahead, give it a guess."
   ],
   "metadata": {}
  },
  {
   "cell_type": "code",
   "execution_count": null,
   "source": [
    "# Let me ask you, what will Python print when we execute this block?\n",
    "# Store the value 100 somewhere in the memory, and give the name to the value\n",
    "value = 100\n",
    "\n",
    "if value > 50:\n",
    "    print(\"More than 50\")"
   ],
   "outputs": [],
   "metadata": {}
  },
  {
   "cell_type": "markdown",
   "source": [
    "The statement is actually quite intuitive, right? But still let me distill it for you.\n",
    "\n",
    "First, `if` is a special word in Python, it has special meaning to Python. Once Python sees the word, it knows that we are about to make a choice, and Python will expect you to tell him to what to do next.\n",
    "\n",
    "Now let's take a look at the part `value > 50`, this is a comparsion, you still remember this from your math classroom, right? So, this comparsion may hold or not. And if the comparsion holds, Python will execute the `print` function. (Shhh, just in case, let me tell you that we've seen `print` in chapter 2, feel free to turn your pages back there)\n",
    "\n",
    "So, now you can better understand this `if` statment, it works intuitively.\n",
    "\n",
    "One more thing, there is a `:` after `value > 50`, what does it mean?\n",
    "\n",
    "This question has a long boring technical answer, but basically, you can think of `:` as telling Python to \"do this\"."
   ],
   "metadata": {}
  },
  {
   "cell_type": "markdown",
   "source": [
    "### Side note\n",
    "If you're really curious, the `:` is called a token, and actually Python designer may choose any token to be used. But `:` is quite easy to read and understand, I think they did a great job."
   ],
   "metadata": {}
  },
  {
   "cell_type": "markdown",
   "source": [
    "# Indent\n",
    "\n",
    "Emmm, young masters, if you look really closely, you may notice one thing. We didn't type `print(\"More than 50\")`, we typed `    print(\"More than 50\")`, there's several blank spaces before `print`, why?\n",
    "\n",
    "TODO: add an illustration here to explain indentation\n",
    "\n",
    "Well, that's called indentation, which basically means move and make some space. Imagine a group of soliders, they are led by a brave commander, all the solider will line up behind the commander, right?\n",
    "\n",
    "Well, here the `if` statement is the commander, and the `print` statement is the solider.\n",
    "Of course, we may add soliders as many as we want, just like this:"
   ],
   "metadata": {}
  },
  {
   "cell_type": "code",
   "execution_count": null,
   "source": [
    "value = 100\n",
    "\n",
    "if value > 50:\n",
    "    print(\"More than 50\")\n",
    "    sixty = 60\n",
    "    difference = sixty - value\n",
    "    print(\"How many to add in order to reach 60?\")\n",
    "    print(difference)"
   ],
   "outputs": [],
   "metadata": {}
  },
  {
   "cell_type": "markdown",
   "source": [
    "# What about others?\n",
    "\n",
    "Congradulations, now you know how to tell Python to execute statement only if some conditions are met. What if the condition is not met? Can we do something else if the condition is not met? Let's find out the answers now!"
   ],
   "metadata": {}
  },
  {
   "cell_type": "code",
   "execution_count": 2,
   "source": [
    "value = 60\n",
    "\n",
    "# Guess what will Python say?\n",
    "if value > 50:\n",
    "    print(\"More than 50\")\n",
    "else:\n",
    "    print(\"Less than 50\")"
   ],
   "outputs": [
    {
     "output_type": "stream",
     "name": "stdout",
     "text": [
      "More than 50\n"
     ]
    }
   ],
   "metadata": {}
  },
  {
   "cell_type": "markdown",
   "source": [
    "It is quite intuitive, right? Bascially, we are just saying \"if this, do these, otherwise, do those.\"\n",
    "\n",
    "Well, what if we don't write an `else`  part? In that case, Python won't do anything at all if the condition doesn't hold."
   ],
   "metadata": {}
  },
  {
   "cell_type": "code",
   "execution_count": 3,
   "source": [
    "value = 50\n",
    "\n",
    "if value > 50:\n",
    "    print(\"More than 50\")\n",
    "\n",
    "# This will be printed anyway\n",
    "print(\"After if\")"
   ],
   "outputs": [
    {
     "output_type": "stream",
     "name": "stdout",
     "text": [
      "After if\n"
     ]
    }
   ],
   "metadata": {}
  },
  {
   "cell_type": "markdown",
   "source": [
    "As you can see, Python will do nothing if the condition is not met."
   ],
   "metadata": {}
  }
 ],
 "metadata": {
  "interpreter": {
   "hash": "a20a47d3ad761ee262cf02118bc00aa79a3f80d22bc3cd44f7b65aaacb27764f"
  },
  "kernelspec": {
   "name": "python3",
   "display_name": "Python 3.7.3 64-bit ('deeplearning': conda)"
  },
  "language_info": {
   "codemirror_mode": {
    "name": "ipython",
    "version": 3
   },
   "file_extension": ".py",
   "mimetype": "text/x-python",
   "name": "python",
   "nbconvert_exporter": "python",
   "pygments_lexer": "ipython3",
   "version": "3.7.3"
  },
  "widgets": {
   "application/vnd.jupyter.widget-state+json": {
    "state": {},
    "version_major": 2,
    "version_minor": 0
   }
  }
 },
 "nbformat": 4,
 "nbformat_minor": 4
}
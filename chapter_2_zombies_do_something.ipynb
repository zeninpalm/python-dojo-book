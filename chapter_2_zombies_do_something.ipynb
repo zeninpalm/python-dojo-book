{
 "cells": [
  {
   "cell_type": "markdown",
   "metadata": {},
   "source": [
    "# Chapter 2. Zombies, just do it\n",
    "## A little math\n",
    "\n",
    "Congradulations, you've done a time travel, visited the first computer ever, and found that your computer is actually just a zombie, but don't worry, it won't bite!\n",
    "\n",
    "Now, it's time to see what your zombie can do, let's tell him to do something!\n",
    "\n",
    "I don't know you, but I don't like Math, I cannot calculate quickly, what about telling our zombie to do a little Math? Huh, that sounds a little cruel, but who knows, maybe our zombie likes math actually! Try yourself the cells below and see how it works."
   ]
  },
  {
   "cell_type": "code",
   "execution_count": null,
   "metadata": {},
   "outputs": [],
   "source": [
    "1 + 1"
   ]
  },
  {
   "cell_type": "code",
   "execution_count": null,
   "metadata": {},
   "outputs": [],
   "source": [
    "5 - 2"
   ]
  },
  {
   "cell_type": "code",
   "execution_count": null,
   "metadata": {},
   "outputs": [],
   "source": [
    "9 * 9"
   ]
  },
  {
   "cell_type": "markdown",
   "metadata": {},
   "source": [
    "Not bad, huh? Now I believe you've found a way to answer every calculation question in your homework. But, I believe you won't be only interested in numbers, let's have some fun with characters now."
   ]
  },
  {
   "cell_type": "markdown",
   "metadata": {},
   "source": [
    "Now, let's try if we calculate on strings:"
   ]
  },
  {
   "cell_type": "code",
   "execution_count": null,
   "metadata": {},
   "outputs": [],
   "source": [
    "# Let's see what we will get if we add two strings together\n",
    "\"abc\" + \"def\""
   ]
  },
  {
   "cell_type": "code",
   "execution_count": null,
   "metadata": {},
   "outputs": [],
   "source": [
    "# What about minus?\n",
    "\"abc\" - \"c\""
   ]
  },
  {
   "cell_type": "code",
   "execution_count": null,
   "metadata": {},
   "outputs": [],
   "source": [
    "# What about multiplication\n",
    "\"abc\" * \"cde\""
   ]
  },
  {
   "cell_type": "code",
   "execution_count": null,
   "metadata": {},
   "outputs": [],
   "source": [
    "# What about division\n",
    "\"abc\" / \"def\""
   ]
  },
  {
   "cell_type": "markdown",
   "metadata": {},
   "source": [
    "I belive you have noticed that only addition is meaningful for strings. Addition really means to connect strings together. It's quite intuitive, right? And you must have notice those scary messages when you try other operations for strings. Don't be afraid, these errors are parts of your trainning in this Dojo, and we will teach you more about how to handle those errors. Don't feel down if you see errors, we will see them every day, even if we become a black-belt master. They are actually friends, they will will tell us where to look and how to fix our problems, learn to love them and use them.\n",
    "\n",
    "Now let's try printing out something in Python:"
   ]
  },
  {
   "cell_type": "code",
   "execution_count": null,
   "metadata": {},
   "outputs": [],
   "source": [
    "# You may let the computer say whatever you want it to say\n",
    "# Use this magic word \"print\"\n",
    "print(\"Hello, Welcome to Python Dojo\")"
   ]
  },
  {
   "cell_type": "markdown",
   "metadata": {},
   "source": [
    "Congradulation, you've just spoke the magic word to Python and got youself a warm welcome message. There's dozens of magics words in Python, these magic words represent what Python can do for you, we will meet most of them later in this Dojo. For now, let me tell you how the computer scientists call the magic words, they call them \"functions\". Really a boring name :-( But the best part is this, later you may design your magic words, and combine them into bigger and more powerful magic words, you will see how powerful you could become."
   ]
  },
  {
   "cell_type": "markdown",
   "metadata": {},
   "source": [
    "There is a lot more that you can do with outputs (such as including interactive outputs)\n",
    "with your book. For more information about this, see [the Jupyter Book documentation](https://jupyterbook.org)"
   ]
  }
 ],
 "metadata": {
  "interpreter": {
   "hash": "916dbcbb3f70747c44a77c7bcd40155683ae19c65e1c03b4aa3499c5328201f1"
  },
  "kernelspec": {
   "display_name": "Python 3.8.2 64-bit",
   "name": "python3"
  },
  "language_info": {
   "codemirror_mode": {
    "name": "ipython",
    "version": 3
   },
   "file_extension": ".py",
   "mimetype": "text/x-python",
   "name": "python",
   "nbconvert_exporter": "python",
   "pygments_lexer": "ipython3",
   "version": "3.8.2"
  },
  "widgets": {
   "application/vnd.jupyter.widget-state+json": {
    "state": {},
    "version_major": 2,
    "version_minor": 0
   }
  }
 },
 "nbformat": 4,
 "nbformat_minor": 4
}
